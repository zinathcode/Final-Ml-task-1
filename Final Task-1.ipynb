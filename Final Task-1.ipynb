{
 "cells": [
  {
   "cell_type": "code",
   "execution_count": null,
   "id": "7fae6383-d404-4a40-9535-cc908356c830",
   "metadata": {},
   "outputs": [],
   "source": [
    "from sklearn.model_selection import train_test_split\n",
    "from sklearn.svm import SVC\n",
    "from sklearn.preprocessing import StandardScaler, LabelEncoder\n",
    "from sklearn.metrics import classification_report, confusion_matrix\n",
    "from sklearn.preprocessing import LabelEncoder\n",
    "import pandas as pd \n"
   ]
  },
  {
   "cell_type": "code",
   "execution_count": null,
   "id": "a6b3ae0c-d856-4944-9c47-7ee6a23271f3",
   "metadata": {},
   "outputs": [],
   "source": [
    "file_path = r\"D:\\Machine Learning\\bank-data\\bank-full.csv\"  # Use raw string for Windows paths\n",
    "\n",
    "# Load the dataset\n",
    "bank_data = pd.read_csv(file_path, sep=';')  # Specify semicolon as separator\n",
    "\n",
    "# Display the first few rows\n",
    "print(bank_data.head())"
   ]
  },
  {
   "cell_type": "code",
   "execution_count": 37,
   "id": "0a235bae-dc76-4bc0-a01d-129514fdb509",
   "metadata": {},
   "outputs": [],
   "source": [
    "# Identify categorical columns\n",
    "categorical_columns = bank_data.select_dtypes(include=['object']).columns\n",
    "\n",
    "# Initialize LabelEncoder\n",
    "categorical_columns = ['job', 'marital', 'education', 'default', 'housing', 'loan', 'contact', 'month', 'poutcome','previous']\n",
    "label_encoders = {}\n",
    "\n",
    "# Encode categorical columns\n",
    "for col in categorical_columns:\n",
    "    le = LabelEncoder()\n",
    "    bank_data[col] = le.fit_transform(bank_data[col])  # Use the correct variable name (bank_data)\n",
    "    label_encoders[col] = le\n",
    "\n",
    "\n"
   ]
  },
  {
   "cell_type": "code",
   "execution_count": 38,
   "id": "6d5f23e0-e84e-4293-9823-07ab98b249a6",
   "metadata": {},
   "outputs": [],
   "source": [
    "# Encode the target variable 'y'\n",
    "label_encoder = LabelEncoder()\n",
    "bank_data['y'] = label_encoder.fit_transform(bank_data['y'])  # 'yes' -> 1, 'no' -> 0\n"
   ]
  },
  {
   "cell_type": "code",
   "execution_count": 39,
   "id": "e92f2452-6539-4493-843b-a7805e4412ab",
   "metadata": {},
   "outputs": [],
   "source": [
    "# Encode categorical columns\n",
    "for col in categorical_columns:\n",
    "    le = LabelEncoder()\n",
    "    bank_data[col] = le.fit_transform(bank_data[col])  # Encode the categorical columns\n",
    "    label_encoders[col] = le  # Store the encoder for future reference\n"
   ]
  },
  {
   "cell_type": "code",
   "execution_count": 40,
   "id": "96d5a183-3692-4fe7-90eb-35354a717a27",
   "metadata": {},
   "outputs": [],
   "source": [
    "# Now you can proceed with the model building steps\n",
    "# Split the data into features (X) and target (y)\n",
    "X = bank_data.drop(columns=['y'])  # Features (all columns except 'y')\n",
    "y = bank_data['y']  # Target variable\n"
   ]
  },
  {
   "cell_type": "code",
   "execution_count": 41,
   "id": "999ecfc8-4c56-473b-9b72-6ae5c976ee22",
   "metadata": {},
   "outputs": [],
   "source": [
    "# Split the dataset into training and testing sets\n",
    "X_train, X_test, y_train, y_test = train_test_split(X, y, test_size=0.3, random_state=42, stratify=y)\n"
   ]
  },
  {
   "cell_type": "code",
   "execution_count": 42,
   "id": "49e5d312-836a-4e2b-a5df-2afaa7d103c0",
   "metadata": {},
   "outputs": [],
   "source": [
    "# Normalize the features using StandardScaler\n",
    "scaler = StandardScaler()\n",
    "X_train = scaler.fit_transform(X_train)\n",
    "X_test = scaler.transform(X_test)"
   ]
  },
  {
   "cell_type": "code",
   "execution_count": null,
   "id": "5e692fe4-b01a-4dc2-b4c6-a1af44170ab7",
   "metadata": {},
   "outputs": [],
   "source": [
    "# Create an SVM model with RBF kernel\n",
    "svm_model = SVC(kernel='rbf', random_state=42)\n"
   ]
  },
  {
   "cell_type": "code",
   "execution_count": null,
   "id": "45032fed-6e60-42d3-9b36-c25e8e688af3",
   "metadata": {},
   "outputs": [],
   "source": [
    "# Train the model\n",
    "svm_model.fit(X_train, y_train)\n"
   ]
  },
  {
   "cell_type": "code",
   "execution_count": null,
   "id": "3fb88a4b-32ad-42ee-84b4-80eb7330dfe1",
   "metadata": {},
   "outputs": [],
   "source": [
    "# Make predictions\n",
    "y_pred = svm_model.predict(X_test)\n"
   ]
  },
  {
   "cell_type": "code",
   "execution_count": 53,
   "id": "3c01db81-12e0-4c5d-b84e-464fa5fc8c40",
   "metadata": {},
   "outputs": [
    {
     "name": "stdout",
     "output_type": "stream",
     "text": [
      "Classification Report:\n",
      "              precision    recall  f1-score   support\n",
      "\n",
      "           0       0.91      0.98      0.94     11977\n",
      "           1       0.66      0.26      0.38      1587\n",
      "\n",
      "    accuracy                           0.90     13564\n",
      "   macro avg       0.78      0.62      0.66     13564\n",
      "weighted avg       0.88      0.90      0.88     13564\n",
      "\n",
      "Confusion Matrix:\n",
      "[[11759   218]\n",
      " [ 1170   417]]\n"
     ]
    }
   ],
   "source": [
    "# Evaluate the model\n",
    "print(\"Classification Report:\")\n",
    "print(classification_report(y_test, y_pred))\n",
    "\n",
    "print(\"Confusion Matrix:\")\n",
    "print(confusion_matrix(y_test, y_pred))"
   ]
  },
  {
   "cell_type": "code",
   "execution_count": null,
   "id": "578beb7c-70de-4540-950c-c857ee5c5d42",
   "metadata": {},
   "outputs": [],
   "source": []
  }
 ],
 "metadata": {
  "kernelspec": {
   "display_name": "Python 3 (ipykernel)",
   "language": "python",
   "name": "python3"
  },
  "language_info": {
   "codemirror_mode": {
    "name": "ipython",
    "version": 3
   },
   "file_extension": ".py",
   "mimetype": "text/x-python",
   "name": "python",
   "nbconvert_exporter": "python",
   "pygments_lexer": "ipython3",
   "version": "3.11.7"
  }
 },
 "nbformat": 4,
 "nbformat_minor": 5
}
